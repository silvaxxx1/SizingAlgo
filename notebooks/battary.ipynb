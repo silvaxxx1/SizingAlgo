{
 "cells": [
  {
   "cell_type": "code",
   "execution_count": 7,
   "metadata": {},
   "outputs": [
    {
     "name": "stdout",
     "output_type": "stream",
     "text": [
      "Battery Capacity: 12126.315789473685 Wh\n"
     ]
    }
   ],
   "source": [
    "# Define input parameters\n",
    "AD = 3              # Ampere-hour rating of a single battery\n",
    "uinv = 0.95         # Inverter efficiency\n",
    "dod = 0.8           # Depth of discharge\n",
    "Vs = 48             # Battery system voltage\n",
    "n_bat = 1           # Number of batteries (for simplicity, assuming one battery)\n",
    "\n",
    "# Calculate battery capacity\n",
    "Bcap = AD * EL / uinv * n_bat * dod * Vs\n",
    "\n",
    "print(\"Battery Capacity:\", Bcap, \"Wh\")\n",
    "\n",
    "# must add the converter to the battary modelıng \n"
   ]
  },
  {
   "cell_type": "code",
   "execution_count": null,
   "metadata": {},
   "outputs": [],
   "source": []
  }
 ],
 "metadata": {
  "kernelspec": {
   "display_name": "TF",
   "language": "python",
   "name": "python3"
  },
  "language_info": {
   "codemirror_mode": {
    "name": "ipython",
    "version": 3
   },
   "file_extension": ".py",
   "mimetype": "text/x-python",
   "name": "python",
   "nbconvert_exporter": "python",
   "pygments_lexer": "ipython3",
   "version": "3.10.13"
  }
 },
 "nbformat": 4,
 "nbformat_minor": 2
}
