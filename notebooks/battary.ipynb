{
 "cells": [
  {
   "cell_type": "code",
   "execution_count": 1,
   "metadata": {},
   "outputs": [
    {
     "ename": "NameError",
     "evalue": "name 'EL' is not defined",
     "output_type": "error",
     "traceback": [
      "\u001b[0;31m---------------------------------------------------------------------------\u001b[0m",
      "\u001b[0;31mNameError\u001b[0m                                 Traceback (most recent call last)",
      "Cell \u001b[0;32mIn[1], line 9\u001b[0m\n\u001b[1;32m      6\u001b[0m n_bat \u001b[38;5;241m=\u001b[39m \u001b[38;5;241m1\u001b[39m           \u001b[38;5;66;03m# Number of batteries (for simplicity, assuming one battery)\u001b[39;00m\n\u001b[1;32m      8\u001b[0m \u001b[38;5;66;03m# Calculate battery capacity\u001b[39;00m\n\u001b[0;32m----> 9\u001b[0m Bcap \u001b[38;5;241m=\u001b[39m AD \u001b[38;5;241m*\u001b[39m EL \u001b[38;5;241m/\u001b[39m uinv \u001b[38;5;241m*\u001b[39m n_bat \u001b[38;5;241m*\u001b[39m dod \u001b[38;5;241m*\u001b[39m Vs\n\u001b[1;32m     11\u001b[0m \u001b[38;5;28mprint\u001b[39m(\u001b[38;5;124m\"\u001b[39m\u001b[38;5;124mBattery Capacity:\u001b[39m\u001b[38;5;124m\"\u001b[39m, Bcap, \u001b[38;5;124m\"\u001b[39m\u001b[38;5;124mWh\u001b[39m\u001b[38;5;124m\"\u001b[39m)\n",
      "\u001b[0;31mNameError\u001b[0m: name 'EL' is not defined"
     ]
    }
   ],
   "source": [
    "# Define input parameters\n",
    "AD = 3              # Ampere-hour rating of a single battery\n",
    "uinv = 0.95         # Inverter efficiency\n",
    "dod = 0.8           # Depth of discharge\n",
    "Vs = 48             # Battery system voltage\n",
    "n_bat = 1           # Number of batteries (for simplicity, assuming one battery)\n",
    "\n",
    "# Calculate battery capacity\n",
    "Bcap = AD * EL / uinv * n_bat * dod * Vs\n",
    "\n",
    "print(\"Battery Capacity:\", Bcap, \"Wh\")\n",
    "\n",
    "# must add the converter to the battary modelıng \n"
   ]
  },
  {
   "cell_type": "code",
   "execution_count": null,
   "metadata": {},
   "outputs": [],
   "source": []
  }
 ],
 "metadata": {
  "kernelspec": {
   "display_name": "base",
   "language": "python",
   "name": "python3"
  },
  "language_info": {
   "codemirror_mode": {
    "name": "ipython",
    "version": 3
   },
   "file_extension": ".py",
   "mimetype": "text/x-python",
   "name": "python",
   "nbconvert_exporter": "python",
   "pygments_lexer": "ipython3",
   "version": "3.12.7"
  }
 },
 "nbformat": 4,
 "nbformat_minor": 2
}
